{
  "nbformat": 4,
  "nbformat_minor": 0,
  "metadata": {
    "colab": {
      "provenance": [],
      "authorship_tag": "ABX9TyNWmnuVEUPALsD6GmN9BdFK",
      "include_colab_link": true
    },
    "kernelspec": {
      "name": "python3",
      "display_name": "Python 3"
    },
    "language_info": {
      "name": "python"
    }
  },
  "cells": [
    {
      "cell_type": "markdown",
      "metadata": {
        "id": "view-in-github",
        "colab_type": "text"
      },
      "source": [
        "<a href=\"https://colab.research.google.com/github/QuentinEmilianoBernet/DataVirgo-interactive-mapping/blob/main/Intro_%C3%A0_la_carto_avec_python_23_01_2023.ipynb\" target=\"_parent\"><img src=\"https://colab.research.google.com/assets/colab-badge.svg\" alt=\"Open In Colab\"/></a>"
      ]
    },
    {
      "cell_type": "markdown",
      "source": [
        "Première étape : Importation des modules et du fichier csv contenant les données que nous voulons cartographier."
      ],
      "metadata": {
        "id": "OZiXRknqqqTE"
      }
    },
    {
      "cell_type": "code",
      "source": [
        "##### Importations\n",
        "\n",
        "import folium\n",
        "import pandas as pd\n",
        "\n",
        "\n",
        "\n",
        "#placez dans cette variable le csv que vous voulez utiliser, en l'ouvrant ensuite grâce à la méthode de pandas read_csv\n",
        "df = pd.read_csv(r\"/votre_fichier.csv\", encoding='utf-8')\n",
        "\n",
        "df"
      ],
      "metadata": {
        "id": "DZH6nRlXq3Xv"
      },
      "execution_count": null,
      "outputs": []
    },
    {
      "cell_type": "markdown",
      "source": [
        "Deuxième étape, assignation des données aux variables correspondantes, paramétrage de la carte *folium* et assignation de ces paramètres à la variable de la carte."
      ],
      "metadata": {
        "id": "TIBBN80HrKix"
      }
    },
    {
      "cell_type": "code",
      "source": [
        "#df est la variable du dataframe. L'élément entre crochets et entre guillemets, ici \"Nom\" correspond au nom de la colonne que vous voulez assigner à la variable\n",
        "#(variable dont vous êtes par contre tout à fait libre de choisir le nom, il ne doit juste pas contenir d'espaces).\n",
        "#La fonction fillna permet d'éviter que des cellules soient vides et perturbent alors notre script.\n",
        "\n",
        "Nom = df[\"Nom\"].astype(str)\n",
        "\n",
        "lat = df['lat'].fillna(0)\n",
        "lon = df['lon'].fillna(0)\n",
        "    \n",
        "centre_carte = [40.44, 6.44]\n",
        "\n",
        "my_map = folium.Map(location = centre_carte, tiles=\"cartodbpositron\", zoom_start = 5)\n",
        "\n",
        "#autre fond de carte pratique à utiliser \"stamentoner\"\n",
        "    \n",
        "my_map"
      ],
      "metadata": {
        "id": "KYVPDvPhrVmc"
      },
      "execution_count": null,
      "outputs": []
    },
    {
      "cell_type": "markdown",
      "source": [
        "Le coeur de notre script sera une itération (argument **for**), avec laquelle nous exécuterons une action en série : la création de marqueurs et leur placement sur notre carte."
      ],
      "metadata": {
        "id": "wSVUhFORz-0X"
      }
    },
    {
      "cell_type": "code",
      "source": [
        "#ici on demande à python d'itérer un certain nombre de fois, nous avons ainsi choisi de lui indiquer la longeur de notre jeu de données :\n",
        "# l'action sera exécutée pour chaque ligne et jusquà la fin du fichier\n",
        "\n",
        "for i in range(len(df)) :\n",
        "\n",
        "  #ici nous itérons la création de marqueurs avant de les placer sur la carte        \n",
        "  folium.Marker([lat[i],lon[i]], popup = str(Nom[i])).add_to(my_map)\n",
        "  \n",
        "\n",
        "my_map"
      ],
      "metadata": {
        "id": "qU0UWUfHz_QH"
      },
      "execution_count": null,
      "outputs": []
    },
    {
      "cell_type": "markdown",
      "source": [
        "le marqueur par défaut proposé par *folium* est un marqueur qui charge une image, correspondant généralement à une punaise mais il est possible d'utiliser une mutlitude de marqueurs différents, en choisissant par exemple l'objet CircleMarker, puis en en faisant varier les paramètres tels que le diamètre et les couleurs :"
      ],
      "metadata": {
        "id": "PKyyU2SMADF6"
      }
    },
    {
      "cell_type": "code",
      "source": [
        "#On charge la carte à nouveau:\n",
        "centre_carte = [40.44, 6.44]\n",
        "my_map = folium.Map(location = centre_carte, tiles=\"cartodbpositron\", zoom_start = 5)\n",
        "\n",
        "for i in range(len(df)) :\n",
        "\n",
        "  #Puis on itère la méthode CircleMarker         \n",
        "  folium.CircleMarker([lat,lon], radius=3, popup = str(Nom[i]), color='none', fill=True, fill_color='blue').add_to(my_map)\n",
        "\n",
        "#Vous pouvez bien évidemment superoposer sur une même carte les marqueurs simples et les 'CircleMarker'.\n",
        "\n",
        "my_map"
      ],
      "metadata": {
        "id": "qB2zZckKAYGK"
      },
      "execution_count": null,
      "outputs": []
    },
    {
      "cell_type": "markdown",
      "source": [
        "Essayons à présent de créer une heatmap."
      ],
      "metadata": {
        "id": "8g8uUZgtEAcZ"
      }
    },
    {
      "cell_type": "code",
      "source": [
        "import folium\n",
        "import pandas as pd\n",
        "\n",
        "#Pour cela nous devons commencer par importer une nouvelle extension de folium:\n",
        "from folium.plugins import HeatMap\n",
        "\n",
        "df = pd.read_csv(r\"/votre_fichier.csv\", encoding='utf-8')\n",
        "\n",
        "#On réassigne nos données.\n",
        "\n",
        "Nom = df[\"Nom\"].astype(str)\n",
        "df['lat'] = df['lat'].fillna(0)\n",
        "df['lon'] = df['lon'].fillna(0)\n",
        "\n",
        "#On peut utiliser une troisième donnée contenant une valeur numérique, jouant ainsi sur l'opacité et l'hétérogénéité de la heatmap\n",
        "df['Approximation'] = df['Approximation'].fillna(0)\n",
        "df['Approximation'] = df['Approximation']\n",
        "\n",
        "#On charge la carte à nouveau:\n",
        "centre_carte = [40.44, 6.44]\n",
        "my_map = folium.Map(location = centre_carte, tiles=\"cartodbpositron\", zoom_start = 5)\n",
        "\n",
        "#à présent nous devons transformer les colonnes de notre jeu de données en objet liste (sous cette forme :[43.09,44.6634,42.33]) :\n",
        "lat = df.lat.tolist()\n",
        "lon = df.lon.tolist()\n",
        "indice = df.Approximation.tolist()\n",
        "\n",
        "\n",
        "#nous déclarons une variable qui va contenir les données de la couche heatmap, avant de l'ajouter à la carte\n",
        "HeatMap(list(zip(lat, lon, indice))).add_to(my_map)\n",
        "\n",
        "\n",
        "my_map"
      ],
      "metadata": {
        "id": "5zosLtYZE7RM"
      },
      "execution_count": null,
      "outputs": []
    },
    {
      "cell_type": "markdown",
      "source": [
        "On téléchage à présent notre carte:"
      ],
      "metadata": {
        "id": "ZljeCyWbXLoe"
      }
    },
    {
      "cell_type": "code",
      "source": [
        "my_map.save(\"filename.html\")"
      ],
      "metadata": {
        "id": "vG0riaziXf96"
      },
      "execution_count": null,
      "outputs": []
    }
  ]
}